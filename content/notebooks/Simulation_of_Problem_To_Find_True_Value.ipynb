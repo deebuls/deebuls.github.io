{
 "cells": [
  {
   "cell_type": "markdown",
   "metadata": {
    "nbpresent": {
     "id": "6fab5369-c7ba-4ca6-956d-32d5fba23bc5"
    }
   },
   "source": [
    "\n",
    "\n",
    "# The Table example\n",
    "\n",
    "Where frequentist and Bayesian differ. [http://www.rpgroup.caltech.edu/courses/PBoC_CSHL_2015/files_2015/articles/eddy%20bayesian%20methods.pdf]\n",
    "\n",
    "Problem is to find the conditional probability of Bob wining given that Alice has won 5 and Bob 3. The game is won whoever reaches 6 points first!\n",
    "\n",
    "## P(Bob | A=5, B=3) ?"
   ]
  },
  {
   "cell_type": "code",
   "execution_count": 6,
   "metadata": {
    "collapsed": false,
    "nbpresent": {
     "id": "afd5d533-9d8a-484a-8e85-d64ba6e03bd3"
    }
   },
   "outputs": [],
   "source": [
    "import scipy.stats as stats\n",
    "import numpy as np\n",
    "\n"
   ]
  },
  {
   "cell_type": "code",
   "execution_count": 43,
   "metadata": {
    "collapsed": false,
    "nbpresent": {
     "id": "4de7e4a3-2a95-4a2d-8373-5beea4650f79"
    }
   },
   "outputs": [
    {
     "name": "stdout",
     "output_type": "stream",
     "text": [
      "P :  0.15598397788391893  condition hit :  1170\n",
      "Bob win after condition :  111\n",
      "Alice win after condition :  1059\n",
      "Bob chance of wining ::    0.09487179487179487\n"
     ]
    }
   ],
   "source": [
    "\n",
    "prob_bob_wining = np.array([])\n",
    "\n",
    "for j in range(100):\n",
    "    count_alice_win = 0\n",
    "    count_bob_win = 0\n",
    "    count_cond_hit = 0\n",
    "\n",
    "    for i in range(10000):\n",
    "        # Select random p \n",
    "        p = np.random.uniform(0,1)\n",
    "        alice = 0\n",
    "        bob = 0\n",
    "\n",
    "        flag_condition = False\n",
    "        \n",
    "        # Loop till anyone wins. The game ends when anyone reaches 6 points\n",
    "        while (alice < 6 and bob < 6):\n",
    "            #The outcome of a single trial game\n",
    "            outcome = np.random.binomial(1, p)\n",
    "            \n",
    "            #Alice wins if outcome is 1\n",
    "            alice += outcome\n",
    "            #Bob winsif outcome is 0\n",
    "            bob += (1 - outcome)\n",
    "\n",
    "            #The condition which is provided in the problem\n",
    "            if (alice == 5 and bob == 3):\n",
    "                flag_condition = True\n",
    "                count_cond_hit += 1\n",
    "\n",
    "        #Someone has won the game\n",
    "        #checking if the condition was hit\n",
    "        #in such condition how many times did bob win\n",
    "        if flag_condition:\n",
    "            if 6 == alice:\n",
    "                count_alice_win += 1\n",
    "            else:\n",
    "                count_bob_win += 1\n",
    "    \n",
    "    #The divison of condition_hit to the time bob win is the\n",
    "    #condition probability of Bob wining given P(Bob| A=5, B=3)\n",
    "    prob_bob_wining = np.append(prob_bob_wining, count_bob_win/ count_cond_hit)\n",
    "\n",
    "print (\"P : \",p ,\" condition hit : \", count_cond_hit)\n",
    "print (\"Bob win after condition : \", count_bob_win)\n",
    "print (\"Alice win after condition : \", count_alice_win)\n",
    "print (\"Bob chance of wining ::   \", count_bob_win/count_cond_hit)"
   ]
  },
  {
   "cell_type": "code",
   "execution_count": 44,
   "metadata": {
    "collapsed": false,
    "nbpresent": {
     "id": "bfb15fb9-ab6f-4a26-99ea-26df153a0514"
    }
   },
   "outputs": [
    {
     "data": {
      "text/plain": [
       "(array([  1.,   4.,  11.,  13.,  20.,  20.,  21.,   7.,   2.,   1.]),\n",
       " array([ 0.07123034,  0.0753562 ,  0.07948206,  0.08360792,  0.08773378,\n",
       "         0.09185964,  0.09598549,  0.10011135,  0.10423721,  0.10836307,\n",
       "         0.11248893]),\n",
       " <a list of 10 Patch objects>)"
      ]
     },
     "execution_count": 44,
     "metadata": {},
     "output_type": "execute_result"
    },
    {
     "data": {
      "image/png": "[encoded data removed]",
      "text/plain": [
       "<matplotlib.figure.Figure at 0x7fbb72cd3e10>"
      ]
     },
     "metadata": {},
     "output_type": "display_data"
    }
   ],
   "source": [
    "%matplotlib inline\n",
    "import matplotlib.pyplot as plt\n",
    "#Plotting the conditional probability of p(Bob| A=5, B=3) \n",
    "plt.hist(prob_bob_wining)"
   ]
  },
  {
   "cell_type": "markdown",
   "metadata": {},
   "source": [
    "# Bayesian view of Bob wining : Analytic Solution\n",
    "{See the document for the proof}\n",
    "\n",
    "This is a special case of Bayesian analysis in which we can can have a analytic solution. (Not true for all other cases of bayesian analysis)\n",
    "\n",
    "$$ P( Bob | A=5, B=3 ) = \\frac {B(5+a,3+b+3) }{B(5+a,3+b)} $$"
   ]
  },
  {
   "cell_type": "code",
   "execution_count": 3,
   "metadata": {
    "collapsed": false
   },
   "outputs": [
    {
     "name": "stdout",
     "output_type": "stream",
     "text": [
      "0.09090909090909091\n"
     ]
    }
   ],
   "source": [
    "import math\n",
    " \n",
    "a_1 = 1 #prior\n",
    "a_2 = 1 #prior for uniform beta distribution. Non informative prior\n",
    "\n",
    "def beta_1(a,b):\n",
    "     \n",
    "    '''uses gamma function or inbuilt math.gamma() to compute values of beta function'''\n",
    "     \n",
    "    beta = math.gamma(a)*math.gamma(b)/math.gamma(a+b)\n",
    "    return beta\n",
    "\n",
    "\n",
    "print (beta_1(5 + a_1, 3+a_2+3) / beta_1(5 + a_1, 3 + a_2 ))\n"
   ]
  },
  {
   "cell_type": "markdown",
   "metadata": {},
   "source": [
    "# Conclusion\n",
    "\n",
    "## Frequentist of Bob wining = $(5/3)^3 $ = 1/18 = 0.05\n",
    "\n",
    "\n",
    "## Bayesian of Bob wining  = 0.09 $\\sim$ 1/10\n",
    "\n",
    "## By Bootstrapping = 0.09-0.1 $\\sim$ 1/10"
   ]
  },
  {
   "cell_type": "code",
   "execution_count": null,
   "metadata": {
    "collapsed": true
   },
   "outputs": [],
   "source": []
  },
  {
   "cell_type": "markdown",
   "metadata": {
    "collapsed": true,
    "nbpresent": {
     "id": "feae7590-ea22-40a2-a395-f45316ceb8bd"
    }
   },
   "source": [
    "# Coin example : Two heads\n",
    "\n",
    "http://www.behind-the-enemy-lines.com/2008/01/are-you-bayesian-or-frequentist-or.html\n",
    "\n",
    "Need to find\n",
    "\n",
    "# P(HH | H=10, T=4 ) ?"
   ]
  },
  {
   "cell_type": "markdown",
   "metadata": {},
   "source": [
    "# Bootstraping method"
   ]
  },
  {
   "cell_type": "code",
   "execution_count": 7,
   "metadata": {
    "collapsed": false,
    "nbpresent": {
     "id": "91fae040-d181-462b-a6de-1ae3ee6457fb"
    }
   },
   "outputs": [
    {
     "name": "stdout",
     "output_type": "stream",
     "text": [
      "Percentage of 2 Heads :  0.47881743370923496\n"
     ]
    }
   ],
   "source": [
    "\n",
    "count_2_heads = 0\n",
    "count_condition_hit = 0\n",
    "\n",
    "percentage_of_2_heads = np.array([])\n",
    "#for p in np.arange(0.1, 1, 0.1):\n",
    "for j in range(100000):\n",
    "    \n",
    "\n",
    "    #for i in range(10000):\n",
    "    #randomly find a p value\n",
    "    p = np.random.uniform(0,1)\n",
    "\n",
    "    #Toss the coint 14 times\n",
    "    outcome = np.random.binomial(1,p, 14)\n",
    "\n",
    "    #Check if the coin toss had 10 heads\n",
    "    if (10 == outcome.sum() ):\n",
    "        count_condition_hit += 1\n",
    "        \n",
    "        #Find the probability of 2 heads\n",
    "        heads_2 = np.random.binomial(1,p, 2)\n",
    " \n",
    "        # Check if there are 2 heads\n",
    "        if (2 == heads_2.sum()):\n",
    "            count_2_heads += 1\n",
    "\n",
    "    #print (\"For P : \", p ,\"Condition Hit : \", count_condition_hit, \"Count 2 heads : \", count_2_heads)\n",
    "    #if (count_condition_hit):\n",
    "    #    print (\"Percentage of 2 Heads : \", (count_2_heads/ count_condition_hit))\n",
    "    #else:\n",
    "    #    print (\"Precentage of 2 Heads : \", 0)\n",
    "    if (count_condition_hit):\n",
    "        percentage_of_2_heads = np.append(percentage_of_2_heads, (count_2_heads/ count_condition_hit))\n",
    "    \n",
    "print (\"Percentage of 2 Heads : \", (count_2_heads/ count_condition_hit))"
   ]
  },
  {
   "cell_type": "markdown",
   "metadata": {
    "nbpresent": {
     "id": "dc4d8113-675e-4b55-a145-4048a19dab4c"
    }
   },
   "source": [
    "# Bayesian Approach"
   ]
  },
  {
   "cell_type": "markdown",
   "metadata": {
    "nbpresent": {
     "id": "cd61519c-4975-4bd0-bc80-46af52fe26b4"
    }
   },
   "source": [
    " $$ P ( HH | data ) = \\frac {B(10+a+2,4+b) } {B(10+a,4+b)} $$"
   ]
  },
  {
   "cell_type": "code",
   "execution_count": 91,
   "metadata": {
    "collapsed": false,
    "nbpresent": {
     "id": "c9dc27cf-dc5d-4c4c-bbc6-073c2fc706ba"
    }
   },
   "outputs": [
    {
     "name": "stdout",
     "output_type": "stream",
     "text": [
      "0.4852941176470588\n"
     ]
    }
   ],
   "source": [
    "import math\n",
    " \n",
    "def beta_1(a,b):\n",
    "     \n",
    "    '''uses gamma function or inbuilt math.gamma() to compute values of beta function'''\n",
    "     \n",
    "    beta = math.gamma(a)*math.gamma(b)/math.gamma(a+b)\n",
    "    return beta\n",
    "\n",
    "\n",
    "print (beta_1(10 + 1 + 2, 4+1) / beta_1(10 + 1 , 4 + 1 ))\n"
   ]
  },
  {
   "cell_type": "markdown",
   "metadata": {},
   "source": [
    "# Conclusion\n",
    "\n",
    "## Frequentist answer of 2 Heads = $(10/14)^2 \\sim 0.51 $  \n",
    "\n",
    "\n",
    "## Bayesian answer of 2 Heads  = 0.485 \n",
    "\n",
    "## By Bootstrapping = 0.47 "
   ]
  },
  {
   "cell_type": "code",
   "execution_count": null,
   "metadata": {
    "collapsed": true
   },
   "outputs": [],
   "source": []
  },
  {
   "cell_type": "markdown",
   "metadata": {},
   "source": [
    "# Bayesian Modelling \n",
    "\n",
    "\n",
    "Beta-Bernoulli Model for coin example.\n",
    "\n",
    "The below sections discusses estimating the latent(hidden) P value of the Bernoulli distribution.\n",
    "\n",
    "Adopted From :\n",
    "\n",
    "[http://www.chadfulton.com/posts/bernoulli_trials_bayesian.html](Bernoulli Trials in Python: Bayesian Estimation)\n",
    "\n",
    "[http://www.chadfulton.com/posts/bernoulli_trials_classical.html](Bernoulli Trials in Python: Classical Estimation)"
   ]
  },
  {
   "cell_type": "code",
   "execution_count": 70,
   "metadata": {
    "collapsed": false,
    "nbpresent": {
     "id": "dd62e3f8-a43b-4646-b25a-18daeac882ab"
    }
   },
   "outputs": [],
   "source": [
    "%matplotlib inline\n",
    "import numpy as np\n",
    "import pandas as pd\n",
    "import statsmodels.api as sm\n",
    "#import sympy as sp\n",
    "import pymc\n",
    "import matplotlib.pyplot as plt\n",
    "import matplotlib.gridspec as gridspec\n",
    "from mpl_toolkits.mplot3d import Axes3D\n",
    "from scipy import stats\n",
    "from scipy.special import gamma\n",
    "import seaborn as sns\n",
    "\n",
    "plt.style.use('classic')\n",
    "#from sympy.interactive import printing\n",
    "#printing.init_printing()"
   ]
  },
  {
   "cell_type": "code",
   "execution_count": 71,
   "metadata": {
    "collapsed": false,
    "nbpresent": {
     "id": "60fe473a-3aa5-4dd8-a4d0-741da7419218"
    }
   },
   "outputs": [
    {
     "name": "stdout",
     "output_type": "stream",
     "text": [
      "11\n"
     ]
    }
   ],
   "source": [
    "# Simulate data\n",
    "np.random.seed(123)\n",
    "\n",
    "nobs = 14\n",
    "theta = 0.71\n",
    "Y = np.random.binomial(1, theta, nobs)\n",
    "print  (Y.sum())"
   ]
  },
  {
   "cell_type": "code",
   "execution_count": 72,
   "metadata": {
    "collapsed": false,
    "nbpresent": {
     "id": "f1444764-33ad-4dcb-b90a-c39b5652f115"
    }
   },
   "outputs": [
    {
     "data": {
      "image/png": "[encoded data removed]",
      "text/plain": [
       "<matplotlib.figure.Figure at 0x7f5de8841f28>"
      ]
     },
     "metadata": {},
     "output_type": "display_data"
    }
   ],
   "source": [
    "\n",
    "\n",
    "# Plot the data\n",
    "fig = plt.figure(figsize=(7,3))\n",
    "gs = gridspec.GridSpec(1, 2, width_ratios=[5, 1]) \n",
    "ax1 = fig.add_subplot(gs[0])\n",
    "ax2 = fig.add_subplot(gs[1])\n",
    "\n",
    "ax1.plot(range(nobs), Y, 'x')\n",
    "ax2.hist(-Y, bins=2)\n",
    "\n",
    "ax1.yaxis.set(ticks=(0,1), ticklabels=('Failure', 'Success'))\n",
    "ax2.xaxis.set(ticks=(-1,0), ticklabels=('Success', 'Failure'));\n",
    "\n",
    "ax1.set(title=r'Bernoulli Trial Outcomes $(\\theta=0.7)$', xlabel='Trial', ylim=(-0.2, 1.2))\n",
    "ax2.set(ylabel='Frequency')\n",
    "\n",
    "fig.tight_layout()\n",
    "\n"
   ]
  },
  {
   "cell_type": "code",
   "execution_count": 73,
   "metadata": {
    "collapsed": false,
    "nbpresent": {
     "id": "9a8c5edd-c588-4020-8647-d76b8dc629c8"
    }
   },
   "outputs": [
    {
     "name": "stdout",
     "output_type": "stream",
     "text": [
      "Posterior Mean (Analytic): 0.75\n"
     ]
    },
    {
     "data": {
      "image/png": "[encoded data removed]",
      "text/plain": [
       "<matplotlib.figure.Figure at 0x7f5de887f240>"
      ]
     },
     "metadata": {},
     "output_type": "display_data"
    }
   ],
   "source": [
    "# For alpha_1 = alpha_2 = 1, the Beta distribution\n",
    "# degenerates to a uniform distribution\n",
    "a1 = 1\n",
    "a2 = 1\n",
    "\n",
    "# Find the hyperparameters of the posterior\n",
    "a1_hat = a1 + Y.sum()\n",
    "a2_hat = a2 + nobs - Y.sum()\n",
    "\n",
    "# Posterior Mean\n",
    "post_mean = a1_hat / (a1_hat + a2_hat)\n",
    "print ('Posterior Mean (Analytic):', post_mean)\n",
    "\n",
    "# Plot the analytic posterior\n",
    "fig = plt.figure(figsize=(10,4))\n",
    "ax = fig.add_subplot(111)\n",
    "X = np.linspace(0,1, 1000)\n",
    "ax.plot(X, stats.beta(a1_hat, a2_hat).pdf(X), 'r');\n",
    "\n",
    "# Plot the prior\n",
    "ax.plot(X, stats.beta(a1, a2).pdf(X), 'g');\n",
    "\n",
    "# Cleanup\n",
    "ax.set(title='Posterior Distribution (Analytic)', ylim=(0,12))\n",
    "ax.legend(['Posterior (Analytic)', 'Prior']);"
   ]
  },
  {
   "cell_type": "code",
   "execution_count": 75,
   "metadata": {
    "collapsed": false,
    "nbpresent": {
     "id": "88ba9f55-7196-41c7-b51d-30de6b77fa83"
    }
   },
   "outputs": [
    {
     "name": "stdout",
     "output_type": "stream",
     "text": [
      "Probability of 2 heads :  0.55993\n"
     ]
    }
   ],
   "source": [
    "count_2_heads_posterior = 0\n",
    "n_sample = 100000\n",
    "for i in range(n_sample):\n",
    "    data = np.random.binomial(1, post_mean, 2)\n",
    "    if 2 == data.sum():\n",
    "        count_2_heads_posterior += 1\n",
    "\n",
    "print (\"Probability of 2 heads : \" , (count_2_heads_posterior/n_sample ))"
   ]
  },
  {
   "cell_type": "code",
   "execution_count": 41,
   "metadata": {
    "collapsed": false,
    "nbpresent": {
     "id": "da25ee92-2027-402b-89f1-fc3ba396090e"
    }
   },
   "outputs": [
    {
     "name": "stdout",
     "output_type": "stream",
     "text": [
      "14 4\n",
      "Posterior Mean (Analytic): 0.777777777778\n"
     ]
    },
    {
     "data": {
      "image/png": "[encoded data removed]",
      "text/plain": [
       "<matplotlib.figure.Figure at 0x7f5de8973fd0>"
      ]
     },
     "metadata": {},
     "output_type": "display_data"
    }
   ],
   "source": [
    "\n",
    "# Find the hyperparameters of the posterior\n",
    "a1_hat = a1 + 2 + Y.sum()\n",
    "a2_hat = a2 + nobs - Y.sum()\n",
    "\n",
    "print (a1_hat, a2_hat)\n",
    "\n",
    "# Posterior Mean\n",
    "post_mean_a = a1_hat / (a1_hat + a2_hat)\n",
    "print ('Posterior Mean (Analytic):', post_mean)\n",
    "\n",
    "# Plot the analytic posterior\n",
    "fig = plt.figure(figsize=(10,4))\n",
    "ax = fig.add_subplot(111)\n",
    "X = np.linspace(0,1, 1000)\n",
    "ax.plot(X, stats.beta(a1_hat, a2_hat).pdf(X), 'r');\n",
    "\n",
    "# Plot the prior\n",
    "ax.plot(X, stats.beta(a1, a2).pdf(X), 'g');\n",
    "\n",
    "# Cleanup\n",
    "ax.set(title='Posterior Distribution (Analytic)', ylim=(0,12))\n",
    "ax.legend(['Posterior (Analytic)', 'Prior']);"
   ]
  },
  {
   "cell_type": "code",
   "execution_count": 90,
   "metadata": {
    "collapsed": false,
    "nbpresent": {
     "id": "2eef0cd2-a735-4e1f-9c57-b56fe7356b85"
    }
   },
   "outputs": [
    {
     "name": "stdout",
     "output_type": "stream",
     "text": [
      "0.604938271605\n"
     ]
    }
   ],
   "source": [
    "print (post_mean_a ** 2)"
   ]
  },
  {
   "cell_type": "code",
   "execution_count": null,
   "metadata": {
    "collapsed": true,
    "nbpresent": {
     "id": "b9db47c5-8145-4087-a83e-3a9486b3d07c"
    }
   },
   "outputs": [],
   "source": []
  },
  {
   "cell_type": "code",
   "execution_count": 61,
   "metadata": {
    "collapsed": false,
    "nbpresent": {
     "id": "890bcba8-fc15-4a5e-b306-5c4e569fb6da"
    }
   },
   "outputs": [
    {
     "data": {
      "text/plain": [
       "array([0, 0])"
      ]
     },
     "execution_count": 61,
     "metadata": {},
     "output_type": "execute_result"
    }
   ],
   "source": [
    "p = np.random.uniform(0,1)\n",
    "\n",
    "data = np.random.poisson(p,2)\n"
   ]
  },
  {
   "cell_type": "code",
   "execution_count": null,
   "metadata": {
    "collapsed": true,
    "nbpresent": {
     "id": "8aa52f17-cf63-4d98-910d-9865212d3f30"
    }
   },
   "outputs": [],
   "source": []
  }
 ],
 "metadata": {
  "anaconda-cloud": {},
  "kernelspec": {
   "display_name": "Python [conda root]",
   "language": "python",
   "name": "conda-root-py"
  },
  "language_info": {
   "codemirror_mode": {
    "name": "ipython",
    "version": 2
   },
   "file_extension": ".py",
   "mimetype": "text/x-python",
   "name": "python",
   "nbconvert_exporter": "python",
   "pygments_lexer": "ipython2",
   "version": "2.7.10"
  },
  "nbpresent": {
   "slides": {
    "68b381a1-512b-46a6-abe5-143e1c900c2b": {
     "id": "68b381a1-512b-46a6-abe5-143e1c900c2b",
     "prev": "78163aca-1df0-41a2-8a76-be01c75dafc6",
     "regions": {
      "2a9dc153-3c74-4db2-a618-73df88b8d22b": {
       "attrs": {
        "height": 0.8,
        "width": 0.45,
        "x": 0.05,
        "y": 0.1
       },
       "content": {
        "cell": "cd61519c-4975-4bd0-bc80-46af52fe26b4",
        "part": "source"
       },
       "id": "2a9dc153-3c74-4db2-a618-73df88b8d22b"
      },
      "68c4e732-4a76-40ab-a15e-ea38973d906d": {
       "attrs": {
        "height": 0.8,
        "width": 0.45,
        "x": 0.5,
        "y": 0.1
       },
       "content": {
        "cell": "c9dc27cf-dc5d-4c4c-bbc6-073c2fc706ba",
        "part": "whole"
       },
       "id": "68c4e732-4a76-40ab-a15e-ea38973d906d"
      }
     }
    },
    "751640c1-1fba-42ee-aff0-93f96424c87e": {
     "id": "751640c1-1fba-42ee-aff0-93f96424c87e",
     "prev": null,
     "regions": {
      "a1bad9d1-adb0-44cd-8c2e-e43bf564ba0a": {
       "attrs": {
        "height": 0.8,
        "width": 0.8,
        "x": 0.1,
        "y": 0.1
       },
       "content": {
        "cell": "91fae040-d181-462b-a6de-1ae3ee6457fb",
        "part": "source"
       },
       "id": "a1bad9d1-adb0-44cd-8c2e-e43bf564ba0a"
      }
     }
    },
    "78163aca-1df0-41a2-8a76-be01c75dafc6": {
     "id": "78163aca-1df0-41a2-8a76-be01c75dafc6",
     "prev": "c9088f4b-5fef-4816-b061-5f9c7c14cdcd",
     "regions": {
      "498e6b9d-a329-4318-b99b-a7215dbe200b": {
       "attrs": {
        "height": 0.8,
        "width": 0.45,
        "x": 0.5,
        "y": 0.1
       },
       "content": {
        "cell": "9a8c5edd-c588-4020-8647-d76b8dc629c8",
        "part": "outputs"
       },
       "id": "498e6b9d-a329-4318-b99b-a7215dbe200b"
      },
      "731349bf-0fff-4852-88d6-f22702cf364c": {
       "attrs": {
        "height": 0.8,
        "width": 0.45,
        "x": 0.05,
        "y": 0.1
       },
       "content": {
        "cell": "9a8c5edd-c588-4020-8647-d76b8dc629c8",
        "part": "source"
       },
       "id": "731349bf-0fff-4852-88d6-f22702cf364c"
      }
     }
    },
    "c9088f4b-5fef-4816-b061-5f9c7c14cdcd": {
     "id": "c9088f4b-5fef-4816-b061-5f9c7c14cdcd",
     "prev": "751640c1-1fba-42ee-aff0-93f96424c87e",
     "regions": {
      "c1ed6ea3-730c-4ed7-9f1a-6dce380a270b": {
       "attrs": {
        "height": 0.8,
        "width": 0.8,
        "x": 0.1,
        "y": 0.1
       },
       "content": {
        "cell": "f1444764-33ad-4dcb-b90a-c39b5652f115",
        "part": "whole"
       },
       "id": "c1ed6ea3-730c-4ed7-9f1a-6dce380a270b"
      }
     }
    }
   },
   "themes": {}
  }
 },
 "nbformat": 4,
 "nbformat_minor": 1
}
